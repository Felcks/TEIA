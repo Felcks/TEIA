{
 "cells": [
  {
   "cell_type": "code",
   "execution_count": 1,
   "metadata": {},
   "outputs": [],
   "source": [
    "%matplotlib inline\n",
    "import matplotlib.pyplot as plt\n",
    "import seaborn as sns; sns.set()\n",
    "import numpy as np"
   ]
  },
  {
   "cell_type": "code",
   "execution_count": 283,
   "metadata": {},
   "outputs": [],
   "source": [
    "import random\n",
    "import math\n",
    "\n",
    "class KMeans():\n",
    "    \n",
    "    def __init__(self, n_clusters):\n",
    "        \n",
    "        self.n_clusters = n_clusters\n",
    "        \n",
    "    def fit(self, X):\n",
    "        \n",
    "        #Sorteando os pontos iniciais dos centróides\n",
    "        self.cluster_centers = np.zeros([self.n_clusters, 2])\n",
    "        \n",
    "        for i in range(0, self.n_clusters):\n",
    "            x = random.uniform(8, 12)\n",
    "            y = random.uniform(8, 12)\n",
    "            self.cluster_centers[i] = [x, y]\n",
    "        \n",
    "        #Associando cada ponto ao centróide mais próximo\n",
    "        self.y_kmeans = np.zeros(len(X))\n",
    "        \n",
    "        for j in range(0, len(X)):\n",
    "            point = X[j]\n",
    "            better_dist = np.linalg.norm(point - self.cluster_centers[0])\n",
    "            \n",
    "            for i in range(1, self.n_clusters):\n",
    "                dist = np.linalg.norm(point - self.cluster_centers[i])\n",
    "                if(dist < better_dist):\n",
    "                    better_dist = dist\n",
    "                    self.y_kmeans[j] = i\n",
    "        \n",
    "        \n",
    "    def predict(self, X):\n",
    "        \n",
    "        count = 0;\n",
    "        while(count < 100):\n",
    "            \n",
    "            count += 1\n",
    "            \n",
    "            #Tirando a média de todos os pontos\n",
    "            medias = np.zeros([self.n_clusters, 2])\n",
    "            quantidade = np.zeros(self.n_clusters)\n",
    "\n",
    "            for j in range(0, len(X)):\n",
    "                indice = math.floor(self.y_kmeans[j])\n",
    "                medias[indice] += X[j]\n",
    "                quantidade[indice] += 1\n",
    "\n",
    "            #Definindo novos centróides\n",
    "            for i in range(0, len(medias)):\n",
    "                self.cluster_centers[i] = medias[i] / quantidade[i]\n",
    "\n",
    "            #Reagrupando os pontos de acordo com os novos centróides\n",
    "            for j in range(0, len(X)):\n",
    "                point = X[j]\n",
    "                better_dist = np.linalg.norm(point - self.cluster_centers[0])\n",
    "\n",
    "                for i in range(1, self.n_clusters):\n",
    "                    dist = np.linalg.norm(point - self.cluster_centers[i])\n",
    "                    if(dist < better_dist):\n",
    "                        better_dist = dist\n",
    "                        self.y_kmeans[j] = i\n",
    "        \n",
    "                    \n",
    "        \n",
    "        return self.y_kmeans          \n",
    "        \n",
    "    \n",
    "    def cost(self, X):\n",
    "        \n",
    "        cost = 0\n",
    "\n",
    "        for j in range(0, len(X)):\n",
    "            point = X[j]\n",
    "            indice = math.floor(self.y_kmeans[j])\n",
    "            cost += np.linalg.norm(point - self.cluster_centers[indice])\n",
    "        \n",
    "        return cost / len(X)\n",
    "        \n",
    "        "
   ]
  },
  {
   "cell_type": "code",
   "execution_count": 405,
   "metadata": {},
   "outputs": [
    {
     "data": {
      "image/png": "[encoded data removed]",
      "text/plain": [
       "<matplotlib.figure.Figure at 0x7efeb36fa908>"
      ]
     },
     "metadata": {},
     "output_type": "display_data"
    }
   ],
   "source": [
    "from sklearn.datasets.samples_generator import make_blobs\n",
    "\n",
    "X, y_true = make_blobs(n_samples=100, centers=4,\n",
    "                       cluster_std=0.60, random_state=1, center_box=(10, 10))\n",
    "plt.scatter(X[:, 0], X[:, 1], s=50, cmap='viridis');\n"
   ]
  },
  {
   "cell_type": "code",
   "execution_count": 406,
   "metadata": {},
   "outputs": [
    {
     "data": {
      "text/plain": [
       "<matplotlib.figure.Figure at 0x7efeb358a3c8>"
      ]
     },
     "metadata": {},
     "output_type": "display_data"
    }
   ],
   "source": [
    "plt.gcf().clear()"
   ]
  },
  {
   "cell_type": "code",
   "execution_count": 410,
   "metadata": {},
   "outputs": [
    {
     "name": "stdout",
     "output_type": "stream",
     "text": [
      "Clusters 2\n"
     ]
    },
    {
     "name": "stderr",
     "output_type": "stream",
     "text": [
      "/home/felcks/anaconda3/lib/python3.6/site-packages/ipykernel_launcher.py:51: RuntimeWarning: invalid value encountered in true_divide\n"
     ]
    },
    {
     "name": "stdout",
     "output_type": "stream",
     "text": [
      "Clusters 3\n",
      "Clusters 4\n",
      "Clusters 5\n",
      "Clusters 6\n",
      "Clusters 7\n",
      "Clusters 8\n",
      "Clusters 9\n",
      "Clusters 10\n"
     ]
    },
    {
     "ename": "KeyboardInterrupt",
     "evalue": "",
     "output_type": "error",
     "traceback": [
      "\u001b[0;31m---------------------------------------------------------------------------\u001b[0m",
      "\u001b[0;31mKeyboardInterrupt\u001b[0m                         Traceback (most recent call last)",
      "\u001b[0;32m<ipython-input-410-23a2e709c6e3>\u001b[0m in \u001b[0;36m<module>\u001b[0;34m()\u001b[0m\n\u001b[1;32m     26\u001b[0m         \u001b[0mkmeans\u001b[0m \u001b[0;34m=\u001b[0m \u001b[0mKMeans\u001b[0m\u001b[0;34m(\u001b[0m\u001b[0mk\u001b[0m\u001b[0;34m)\u001b[0m\u001b[0;34m\u001b[0m\u001b[0m\n\u001b[1;32m     27\u001b[0m         \u001b[0mkmeans\u001b[0m\u001b[0;34m.\u001b[0m\u001b[0mfit\u001b[0m\u001b[0;34m(\u001b[0m\u001b[0mX\u001b[0m\u001b[0;34m)\u001b[0m\u001b[0;34m\u001b[0m\u001b[0m\n\u001b[0;32m---> 28\u001b[0;31m         \u001b[0my_kmeans\u001b[0m \u001b[0;34m=\u001b[0m \u001b[0mkmeans\u001b[0m\u001b[0;34m.\u001b[0m\u001b[0mpredict\u001b[0m\u001b[0;34m(\u001b[0m\u001b[0mX\u001b[0m\u001b[0;34m)\u001b[0m\u001b[0;34m\u001b[0m\u001b[0m\n\u001b[0m\u001b[1;32m     29\u001b[0m         \u001b[0mcenters\u001b[0m \u001b[0;34m=\u001b[0m \u001b[0mkmeans\u001b[0m\u001b[0;34m.\u001b[0m\u001b[0mcluster_centers\u001b[0m\u001b[0;34m\u001b[0m\u001b[0m\n\u001b[1;32m     30\u001b[0m \u001b[0;34m\u001b[0m\u001b[0m\n",
      "\u001b[0;32m<ipython-input-283-b866aca974a1>\u001b[0m in \u001b[0;36mpredict\u001b[0;34m(self, X)\u001b[0m\n\u001b[1;32m     49\u001b[0m             \u001b[0;31m#Definindo novos centróides\u001b[0m\u001b[0;34m\u001b[0m\u001b[0;34m\u001b[0m\u001b[0m\n\u001b[1;32m     50\u001b[0m             \u001b[0;32mfor\u001b[0m \u001b[0mi\u001b[0m \u001b[0;32min\u001b[0m \u001b[0mrange\u001b[0m\u001b[0;34m(\u001b[0m\u001b[0;36m0\u001b[0m\u001b[0;34m,\u001b[0m \u001b[0mlen\u001b[0m\u001b[0;34m(\u001b[0m\u001b[0mmedias\u001b[0m\u001b[0;34m)\u001b[0m\u001b[0;34m)\u001b[0m\u001b[0;34m:\u001b[0m\u001b[0;34m\u001b[0m\u001b[0m\n\u001b[0;32m---> 51\u001b[0;31m                 \u001b[0mself\u001b[0m\u001b[0;34m.\u001b[0m\u001b[0mcluster_centers\u001b[0m\u001b[0;34m[\u001b[0m\u001b[0mi\u001b[0m\u001b[0;34m]\u001b[0m \u001b[0;34m=\u001b[0m \u001b[0mmedias\u001b[0m\u001b[0;34m[\u001b[0m\u001b[0mi\u001b[0m\u001b[0;34m]\u001b[0m \u001b[0;34m/\u001b[0m \u001b[0mquantidade\u001b[0m\u001b[0;34m[\u001b[0m\u001b[0mi\u001b[0m\u001b[0;34m]\u001b[0m\u001b[0;34m\u001b[0m\u001b[0m\n\u001b[0m\u001b[1;32m     52\u001b[0m \u001b[0;34m\u001b[0m\u001b[0m\n\u001b[1;32m     53\u001b[0m             \u001b[0;31m#Reagrupando os pontos de acordo com os novos centróides\u001b[0m\u001b[0;34m\u001b[0m\u001b[0;34m\u001b[0m\u001b[0m\n",
      "\u001b[0;31mKeyboardInterrupt\u001b[0m: "
     ]
    }
   ],
   "source": [
    "max_t = 10 #Quantidade de vezes rodando o algoritmo para cada Cluster\n",
    "max_k = 10 #Quantidade de Clusters (Inicia no 2 e vai até o max_k (inclusivo))\n",
    "melhora_aceitavel = 0.01 #Maior que isso aceitamos a melhora, menor que esse valor, paramos o algoritmo.\n",
    "\n",
    "better_y = np.zeros(len(X))\n",
    "better_centers\n",
    "better_cost = 999\n",
    "better_k = 2\n",
    "\n",
    "k_based_better_y_seted = False\n",
    "k_based_better_y = np.zeros(len(X))\n",
    "k_based_better_k = 0\n",
    "\n",
    "media_costs = np.zeros(max_k - 1)\n",
    "\n",
    "k = 2\n",
    "while(k <= max_k):\n",
    "    \n",
    "    print(\"Clusters\", k)\n",
    "    t = 0\n",
    "    media_costs[k - 2] = 999\n",
    "    \n",
    "    while(t < max_t):\n",
    "        \n",
    "        #Rodando o algoritmo\n",
    "        kmeans = KMeans(k)\n",
    "        kmeans.fit(X)\n",
    "        y_kmeans = kmeans.predict(X)\n",
    "        centers = kmeans.cluster_centers\n",
    "        \n",
    "        #Custo\n",
    "        cost = kmeans.cost(X)\n",
    "        \n",
    "        #Definindo o melhor custo geral\n",
    "        if(cost < better_cost):\n",
    "            better_cost = cost\n",
    "            better_y = y_kmeans\n",
    "            better_centers = centers\n",
    "            better_k = k\n",
    "            \n",
    "        #Definindo o melhor custo daquele cluster\n",
    "        if(cost < media_costs[k - 2]):\n",
    "            media_costs[k - 2] = cost\n",
    "        \n",
    "        t += 1\n",
    "    \n",
    "    #Conferindo se já passou da melhora aceitável\n",
    "    if(k - 3 >= 0 and k_based_better_y_seted == False):\n",
    "        if(media_costs[k - 3] - media_costs[k - 2] < melhora_aceitavel):\n",
    "            k_based_better_y_seted = True\n",
    "            k_based_better_centers = better_centers\n",
    "            k_based_better_y = better_y\n",
    "            k_based_better_cost = media_costs[k - 2]\n",
    "            k_based_better_k = k\n",
    "    \n",
    "    k += 1\n",
    "    \n",
    "\n",
    "print(\"\")\n",
    "print(\"Melhor custo:\", better_cost)\n",
    "print(\"Melhor K:\", better_k)\n",
    "print(\"Melhores custos de cada K:\")\n",
    "print(media_costs)\n",
    "\n",
    "#Printando os melhores resultados\n",
    "plt.scatter(X[:, 0], X[:, 1], c=better_y, s=50, cmap='viridis')\n",
    "plt.scatter(better_centers[:, 0], better_centers[:, 1], c='black', s=200, alpha=0.5);\n",
    "        \n"
   ]
  },
  {
   "cell_type": "code",
   "execution_count": null,
   "metadata": {},
   "outputs": [],
   "source": [
    "plt.gcf().clear()"
   ]
  },
  {
   "cell_type": "code",
   "execution_count": null,
   "metadata": {},
   "outputs": [],
   "source": [
    "if(k_based_better_k != 0):\n",
    "    print(\"\")\n",
    "    print(\"Melhor custo para o K baseado na melhoria\", k_based_better_cost)\n",
    "    print(\"Melhor K baseado na melhoria\", k_based_better_k)\n",
    "\n",
    "    #Printando os melhores resultados baseados no melhor K\n",
    "    plt.scatter(X[:, 0], X[:, 1], c=k_based_better_y, s=50, cmap='viridis')\n",
    "    plt.scatter(k_based_better_centers[:, 0], k_based_better_centers[:, 1], c='black', s=200, alpha=0.5);\n",
    "else:\n",
    "    print(\"Não temos K baseado na melhoria diferente da resposta do algoritmo.\")\n",
    "    print(\"Para o número K de clusters dados e a melhoria proposta, o algoritimo está convergindo aceitavelmente\")"
   ]
  },
  {
   "cell_type": "code",
   "execution_count": 403,
   "metadata": {},
   "outputs": [
    {
     "data": {
      "text/plain": [
       "<matplotlib.figure.Figure at 0x7efeb3afc978>"
      ]
     },
     "metadata": {},
     "output_type": "display_data"
    }
   ],
   "source": [
    "plt.gcf().clear()"
   ]
  },
  {
   "cell_type": "code",
   "execution_count": 404,
   "metadata": {},
   "outputs": [
    {
     "data": {
      "image/png": "[encoded data removed]",
      "text/plain": [
       "<matplotlib.figure.Figure at 0x7efeb34ca400>"
      ]
     },
     "metadata": {},
     "output_type": "display_data"
    }
   ],
   "source": [
    "x_index = np.zeros(max_k-1)\n",
    "for i in range(0, max_k-1):\n",
    "    x_index[i] = i + 2\n",
    "\n",
    "plt.plot(x_index, media_costs, marker=\"o\")\n",
    "plt.title(\"Gráfico da função custo\")\n",
    "plt.xlabel(\"K (quantidade de Clusters)\")\n",
    "plt.ylabel(\"Função de custo (valor médio)\")\n",
    "plt.show()"
   ]
  },
  {
   "cell_type": "code",
   "execution_count": null,
   "metadata": {},
   "outputs": [],
   "source": []
  },
  {
   "cell_type": "code",
   "execution_count": null,
   "metadata": {},
   "outputs": [],
   "source": []
  },
  {
   "cell_type": "code",
   "execution_count": null,
   "metadata": {},
   "outputs": [],
   "source": []
  }
 ],
 "metadata": {
  "kernelspec": {
   "display_name": "Python 3",
   "language": "python",
   "name": "python3"
  },
  "language_info": {
   "codemirror_mode": {
    "name": "ipython",
    "version": 3
   },
   "file_extension": ".py",
   "mimetype": "text/x-python",
   "name": "python",
   "nbconvert_exporter": "python",
   "pygments_lexer": "ipython3",
   "version": "3.6.4"
  }
 },
 "nbformat": 4,
 "nbformat_minor": 2
}
